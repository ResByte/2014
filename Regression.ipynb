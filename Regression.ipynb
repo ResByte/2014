{
  "nbformat": 4,
  "nbformat_minor": 0,
  "metadata": {
    "colab": {
      "name": "Regression.ipynb",
      "version": "0.3.2",
      "provenance": [],
      "collapsed_sections": [],
      "include_colab_link": true
    },
    "kernelspec": {
      "name": "python3",
      "display_name": "Python 3"
    },
    "accelerator": "GPU"
  },
  "cells": [
    {
      "cell_type": "markdown",
      "metadata": {
        "id": "view-in-github",
        "colab_type": "text"
      },
      "source": [
        "<a href=\"https://colab.research.google.com/github/ResByte/2014/blob/master/Regression.ipynb\" target=\"_parent\"><img src=\"https://colab.research.google.com/assets/colab-badge.svg\" alt=\"Open In Colab\"/></a>"
      ]
    },
    {
      "metadata": {
        "id": "K-IyMyl7Faxi",
        "colab_type": "code",
        "colab": {
          "base_uri": "https://localhost:8080/",
          "height": 292
        },
        "outputId": "ce21b4bb-c275-4976-9134-e3cdfb986efa"
      },
      "cell_type": "code",
      "source": [
        "# # to install pytorch uncomment these line \n",
        "!pip3 install torch torchvision\n",
        "!pip3 install -U seaborn"
      ],
      "execution_count": 3,
      "outputs": [
        {
          "output_type": "stream",
          "text": [
            "Requirement already satisfied: torch in /usr/local/lib/python3.6/dist-packages (0.4.1)\n",
            "Requirement already satisfied: torchvision in /usr/local/lib/python3.6/dist-packages (0.2.1)\n",
            "Requirement already satisfied: pillow>=4.1.1 in /usr/local/lib/python3.6/dist-packages (from torchvision) (5.3.0)\n",
            "Requirement already satisfied: numpy in /usr/local/lib/python3.6/dist-packages (from torchvision) (1.14.6)\n",
            "Requirement already satisfied: six in /usr/local/lib/python3.6/dist-packages (from torchvision) (1.11.0)\n",
            "Requirement already up-to-date: seaborn in /usr/local/lib/python3.6/dist-packages (0.9.0)\n",
            "Requirement already satisfied, skipping upgrade: numpy>=1.9.3 in /usr/local/lib/python3.6/dist-packages (from seaborn) (1.14.6)\n",
            "Requirement already satisfied, skipping upgrade: pandas>=0.15.2 in /usr/local/lib/python3.6/dist-packages (from seaborn) (0.22.0)\n",
            "Requirement already satisfied, skipping upgrade: scipy>=0.14.0 in /usr/local/lib/python3.6/dist-packages (from seaborn) (1.1.0)\n",
            "Requirement already satisfied, skipping upgrade: matplotlib>=1.4.3 in /usr/local/lib/python3.6/dist-packages (from seaborn) (2.1.2)\n",
            "Requirement already satisfied, skipping upgrade: pytz>=2011k in /usr/local/lib/python3.6/dist-packages (from pandas>=0.15.2->seaborn) (2018.7)\n",
            "Requirement already satisfied, skipping upgrade: python-dateutil>=2 in /usr/local/lib/python3.6/dist-packages (from pandas>=0.15.2->seaborn) (2.5.3)\n",
            "Requirement already satisfied, skipping upgrade: pyparsing!=2.0.4,!=2.1.2,!=2.1.6,>=2.0.1 in /usr/local/lib/python3.6/dist-packages (from matplotlib>=1.4.3->seaborn) (2.3.0)\n",
            "Requirement already satisfied, skipping upgrade: six>=1.10 in /usr/local/lib/python3.6/dist-packages (from matplotlib>=1.4.3->seaborn) (1.11.0)\n",
            "Requirement already satisfied, skipping upgrade: cycler>=0.10 in /usr/local/lib/python3.6/dist-packages (from matplotlib>=1.4.3->seaborn) (0.10.0)\n"
          ],
          "name": "stdout"
        }
      ]
    },
    {
      "metadata": {
        "id": "ITTD5M_FgAjl",
        "colab_type": "text"
      },
      "cell_type": "markdown",
      "source": [
        "# Regression \n",
        "In this post, we are going to look at an overview of Machine learning foundations. Namely, regression and classification techniques. \n",
        "\n",
        "\n",
        "\n",
        "In this type of problem, we are given with a set of inputs and corresponding outputs. Our task is to estimate a output corresponding to new input. \n",
        "\n",
        "One of the simplest methods for regression is Ordinary Least Squares, here the equation is often modelled as :  $y_i = h_{\\mathbf{w}}(\\mathbf{x_i}) = \\mathbf{ x_i^T w}$  . This is for each of $i$th data sample, and for $n$ samples it can be converted into $\\mathbf{y = X w}$ . Here, $\\mathbf{X} \\in \\mathbb{R}^{n \\times d}$ and $\\mathbf{w} \\in \\mathbb{R}^{d \\times 1}$ resulting in $\\mathbf{y} \\in \\mathbb{R}^{n \\times 1}$. \n",
        "\n",
        "\n",
        "## Ordinary Least Square \n",
        "However, we do not know the values of $\\mathbf{w}$ to estimate a new $y_j$. Hence, we need an approach to learn the parameters $\\mathbf{w}^* = \\arg \\min_W $\n",
        "\n",
        "\n",
        "\n",
        "However, there is no exact solution to this equation but we can find an approximate solution by minimizing the sum of squared error as : \n",
        "$$L(\\mathbf{w}) = \\sum_{i=1}^n (\\mathbf{x}_i^T \\mathbf{w} - y_i)^2 = \\min_{\\mathbf{w}}|| \\mathbf{Xw} - y||_2^2$$ \n",
        "with estimated weights as $\\mathbf{w}^*_{OLS}$ \n",
        "\n",
        "This can solved as :\n",
        "$$\n",
        "L(\\mathbf{w}) = (\\mathbf{X}\\mathbf{w} - \\mathbf{y})^T(\\mathbf{X}\\mathbf{w} - \\mathbf{y}) \\\\\n",
        "L(\\mathbf{w}) = \\mathbf{w}^T \\mathbf{X}^T \\mathbf{X} \\mathbf{w} - 2 \\mathbf{w}^T\\mathbf{X}^Ty + \\mathbf{y}^T\\mathbf{y} \\\\\n",
        "\\nabla L(\\mathbf{w}) =\\nabla( \\mathbf{w}^T \\mathbf{X}^T \\mathbf{X} \\mathbf{w} - 2 \\mathbf{w}^T\\mathbf{X}^Ty + \\mathbf{y}^T\\mathbf{y}) \\\\\n",
        "\\nabla L(\\mathbf{w}) = 2 \\mathbf{X}^T \\mathbf{X}\\mathbf{w} - 2\\mathbf{X}^T \\mathbf{y}  \\\\\n",
        "\\mathbf{w}^*_{\\text{ols}} = (\\mathbf{X}^T \\mathbf{X})^{-1}\\mathbf{X}^T y\n",
        "$$\n"
      ]
    },
    {
      "metadata": {
        "id": "3nWHdzE2fpdf",
        "colab_type": "code",
        "colab": {}
      },
      "cell_type": "code",
      "source": [
        "import torch \n",
        "import torch.nn as nn \n",
        "import numpy as np \n",
        "import seaborn as sns; sns.set()\n",
        "import matplotlib.pyplot as plt \n",
        "%matplotlib inline "
      ],
      "execution_count": 0,
      "outputs": []
    },
    {
      "metadata": {
        "id": "dsNBjt5vGD50",
        "colab_type": "code",
        "colab": {
          "base_uri": "https://localhost:8080/",
          "height": 34
        },
        "outputId": "67796e25-58ee-4645-8beb-6c86cec7e9b8"
      },
      "cell_type": "code",
      "source": [
        "# to repeat the experiments\n",
        "torch.manual_seed(123)"
      ],
      "execution_count": 14,
      "outputs": [
        {
          "output_type": "execute_result",
          "data": {
            "text/plain": [
              "<torch._C.Generator at 0x7f113e3aadb0>"
            ]
          },
          "metadata": {
            "tags": []
          },
          "execution_count": 14
        }
      ]
    },
    {
      "metadata": {
        "id": "BuQB1w_GgKOO",
        "colab_type": "code",
        "colab": {}
      },
      "cell_type": "code",
      "source": [
        "# linear spaced dataset : start, end, steps=100\n",
        "X = torch.linspace(-1, 1, 101)\n",
        "y = 2 * X + torch.randn(X.size()) * 0.33 # y = 2x + eps(0, sigma)"
      ],
      "execution_count": 0,
      "outputs": []
    },
    {
      "metadata": {
        "id": "NrQX0Is-gK2q",
        "colab_type": "code",
        "colab": {}
      },
      "cell_type": "code",
      "source": [
        "def plot_data(data_x, data_y):\n",
        "    data_x = data_x.numpy()\n",
        "    data_y = data_y.numpy()\n",
        "    f, ax = plt.subplots(figsize=(12, 8))\n",
        "    plt.plot(data_x, data_y,'o', alpha=0.75)\n",
        "    plt.xlabel(\"X\")\n",
        "    plt.ylabel(\"y\")"
      ],
      "execution_count": 0,
      "outputs": []
    },
    {
      "metadata": {
        "id": "VO5WaeACgQu_",
        "colab_type": "code",
        "colab": {
          "base_uri": "https://localhost:8080/",
          "height": 497
        },
        "outputId": "c7c0b64a-18a0-4029-b3de-6192aa0c4731"
      },
      "cell_type": "code",
      "source": [
        "plot_data(X, y)"
      ],
      "execution_count": 12,
      "outputs": [
        {
          "output_type": "display_data",
          "data": {
            "image/png": "[encoded data removed]",
            "text/plain": [
              "<matplotlib.figure.Figure at 0x7f1108db1b38>"
            ]
          },
          "metadata": {
            "tags": []
          }
        }
      ]
    },
    {
      "metadata": {
        "id": "CbPkfuObgRNx",
        "colab_type": "code",
        "colab": {}
      },
      "cell_type": "code",
      "source": [
        "# build regression model \n",
        "# f(x) = mx + c\n",
        "reg_model = nn.Sequential(\n",
        "            nn.Linear(1, 1, bias=True)\n",
        "            )\n",
        "    "
      ],
      "execution_count": 0,
      "outputs": []
    },
    {
      "metadata": {
        "id": "Ulk2tHp7gpNX",
        "colab_type": "code",
        "colab": {}
      },
      "cell_type": "code",
      "source": [
        "# fit the model \n",
        "\n",
        "# loss function is Mean Squared Error\n",
        "loss = torch.nn.MSELoss(reduction='elementwise_mean')\n",
        "\n",
        "# gradient descent based optimization \n",
        "optimizer = torch.optim.SGD(model.parameters(), lr=0.01, momentum=0.9)\n",
        "\n"
      ],
      "execution_count": 0,
      "outputs": []
    },
    {
      "metadata": {
        "id": "JSKR5Jt5gpzm",
        "colab_type": "code",
        "colab": {}
      },
      "cell_type": "code",
      "source": [
        "batch_size = 10\n",
        "epochs = 10"
      ],
      "execution_count": 0,
      "outputs": []
    },
    {
      "metadata": {
        "id": "FgbvTsFfgrg6",
        "colab_type": "code",
        "colab": {
          "base_uri": "https://localhost:8080/",
          "height": 187
        },
        "outputId": "8e241ece-c593-42e9-890a-0f2475a7399d"
      },
      "cell_type": "code",
      "source": [
        "# training loop \n",
        "for epoch in range(epochs):\n",
        "    cost = 0.\n",
        "    num_batches = len(X) // batch_size \n",
        "    for k in range(num_batches):\n",
        "        # load batch from X, y\n",
        "        start, end = k * batch_size, (k + 1) * batch_size\n",
        "        batch_x = X[start:end].view(batch_size, 1)\n",
        "        batch_y = y[start:end].view(batch_size, 1)\n",
        "        \n",
        "        # start with forward pass \n",
        "        preds = reg_model(batch_x)\n",
        "        \n",
        "        # compute mse loss \n",
        "        batch_loss = loss(preds, batch_y)\n",
        "        \n",
        "        # update the parameter\n",
        "        # Reset gradient\n",
        "        optimizer.zero_grad()\n",
        "        # compute gradients for the graph \n",
        "        batch_loss.backward()\n",
        "        # update parameters\n",
        "        optimizer.step()\n",
        "        cost += batch_loss.item()\n",
        "    print(\"Epoch = %d, cost = %s\" % (epoch + 1, cost / num_batches))"
      ],
      "execution_count": 16,
      "outputs": [
        {
          "output_type": "stream",
          "text": [
            "Epoch = 1, cost = 1.4153896935284138\n",
            "Epoch = 2, cost = 0.44998225271701814\n",
            "Epoch = 3, cost = 0.12958984337747098\n",
            "Epoch = 4, cost = 0.11636050827801228\n",
            "Epoch = 5, cost = 0.11272614896297455\n",
            "Epoch = 6, cost = 0.1097826600074768\n",
            "Epoch = 7, cost = 0.10723004825413227\n",
            "Epoch = 8, cost = 0.10532307103276253\n",
            "Epoch = 9, cost = 0.10538104921579361\n",
            "Epoch = 10, cost = 0.10550721399486065\n"
          ],
          "name": "stdout"
        }
      ]
    },
    {
      "metadata": {
        "id": "9kjPwCRUgtM9",
        "colab_type": "code",
        "colab": {
          "base_uri": "https://localhost:8080/",
          "height": 34
        },
        "outputId": "91c3a3f9-d6be-4a0e-eaf0-3c56071ec262"
      },
      "cell_type": "code",
      "source": [
        "w = next(reg_model.parameters()).data\n",
        "print(\"w = %.2f\" % w.numpy())"
      ],
      "execution_count": 17,
      "outputs": [
        {
          "output_type": "stream",
          "text": [
            "w = 1.96\n"
          ],
          "name": "stdout"
        }
      ]
    },
    {
      "metadata": {
        "id": "jdNbKm_IoXtO",
        "colab_type": "text"
      },
      "cell_type": "markdown",
      "source": [
        "## Ridge Regression\n",
        "\n",
        "There are limitations on using OLS solutions for regression : \n",
        "\n",
        "- numerical instability :  features of data are close to collinear, this leads to linearly dependent features columns, this makes $\\mathbf{X}$ to lose rank and has singular values close to 0 which makes inverse hard to compute  \n",
        "- generalization issues\n",
        "\n",
        "Simple solution to this to penalize the loss  :\n",
        "$$L(\\mathbf{w}) =  \\min_{\\mathbf{w}} || \\mathbf{X}w - y ||^2_2 + \\lambda ||\\mathbf{w}||_2^2$$\n",
        "$$L(\\mathbf{w}) = \\mathbf{w}^T \\mathbf{X}^T \\mathbf{X} \\mathbf{w} - 2 \\mathbf{w}^T\\mathbf{X}^Ty + \\mathbf{y}^T\\mathbf{y} + \\lambda \\mathbf{w}^T\\mathbf{w}$$\n",
        "$$\\{ \\nabla L(\\mathbf{w}) = 2 \\mathbf{X}^T \\mathbf{X}\\mathbf{w} - 2\\mathbf{X}^T \\mathbf{y} + 2\\lambda\\mathbf{w} \\}\\to 0$$\n",
        "$$2 \\mathbf{X}^T \\mathbf{X}\\mathbf{w} - 2\\mathbf{X}^T \\mathbf{y} + 2\\lambda\\mathbf{w} = 0$$"
      ]
    },
    {
      "metadata": {
        "id": "8PtBbuLMgxQ3",
        "colab_type": "code",
        "colab": {}
      },
      "cell_type": "code",
      "source": [
        ""
      ],
      "execution_count": 0,
      "outputs": []
    },
    {
      "metadata": {
        "id": "ZdLtLMLEGSiU",
        "colab_type": "text"
      },
      "cell_type": "markdown",
      "source": [
        ""
      ]
    }
  ]
}